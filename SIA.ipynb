{
 "cells": [
  {
   "cell_type": "code",
   "execution_count": 172,
   "id": "07c41aae",
   "metadata": {},
   "outputs": [],
   "source": [
    "from sklearn.model_selection import train_test_split\n",
    "from sklearn.ensemble import RandomForestClassifier\n",
    "from sklearn.datasets import make_classification\n",
    "from sklearn.preprocessing import MinMaxScaler\n",
    "import pandas as pd\n",
    "import numpy as np"
   ]
  },
  {
   "cell_type": "code",
   "execution_count": 198,
   "id": "b10e628d",
   "metadata": {},
   "outputs": [
    {
     "name": "stdout",
     "output_type": "stream",
     "text": [
      "               Business name  Type of business  Number of outlets  \\\n",
      "0             Bakers Delight                 0                 46   \n",
      "1                   BreadTop                 0                 75   \n",
      "2                Boost Juice                 0                 20   \n",
      "3  Cellini Cafe & Restaurant                 0                 90   \n",
      "4                       Nike                 1                 80   \n",
      "5                       Puma                 1                 65   \n",
      "6           Meyson Jewellery                 2                 50   \n",
      "7                   Goldmark                 2                 40   \n",
      "8                  Blue Nile                 2                 25   \n",
      "9       The Australia Ballet                 2                 10   \n",
      "\n",
      "   Review Rating  \n",
      "0            4.3  \n",
      "1            4.2  \n",
      "2            4.3  \n",
      "3            4.5  \n",
      "4            4.5  \n",
      "5            4.6  \n",
      "6            4.3  \n",
      "7            4.7  \n",
      "8            4.1  \n",
      "9            4.2  \n"
     ]
    }
   ],
   "source": [
    "input = {'Business name': ['Bakers Delight', 'BreadTop', 'Boost Juice', 'Cellini Cafe & Restaurant', 'Nike', 'Puma', 'Meyson Jewellery', 'Goldmark', 'Blue Nile', 'The Australia Ballet'], 'Type of business': [0, 0, 0, 0, 1, 1, 2, 2, 2, 2], 'Number of outlets': [46, 75, 20, 90, 80, 65, 50, 40, 25, 10] , 'Review Rating': [4.3, 4.2, 4.3, 4.5, 4.5, 4.6, 4.3, 4.7, 4.1, 4.2] }\n",
    "\n",
    "\n",
    "df = pd.DataFrame(input)\n",
    "print(df)\n",
    "\n"
   ]
  },
  {
   "cell_type": "code",
   "execution_count": 185,
   "id": "100b6eec",
   "metadata": {},
   "outputs": [],
   "source": [
    "# scaler = MinMaxScaler()\n",
    "# df['Number of outlets'] = scaler.fit_transform(df[['Number of outlets']])\n",
    "# print(df)"
   ]
  },
  {
   "cell_type": "code",
   "execution_count": 186,
   "id": "43dd58c3",
   "metadata": {},
   "outputs": [
    {
     "name": "stdout",
     "output_type": "stream",
     "text": [
      "[[ 0.  46.   4.3]\n",
      " [ 0.  75.   4.2]\n",
      " [ 0.  20.   4.3]\n",
      " [ 0.  90.   4.5]\n",
      " [ 1.  80.   4.5]\n",
      " [ 1.  65.   4.6]\n",
      " [ 2.  50.   4.3]\n",
      " [ 2.  40.   4.7]\n",
      " [ 2.  25.   4.1]\n",
      " [ 2.  10.   4.2]]\n",
      "10\n"
     ]
    }
   ],
   "source": [
    "shops = np.asarray(df[['Type of business', 'Number of outlets', 'Review Rating']].values.tolist())\n",
    "\n",
    "print(shops)\n",
    "print(len(shops))"
   ]
  },
  {
   "cell_type": "code",
   "execution_count": 187,
   "id": "6ad43b58",
   "metadata": {},
   "outputs": [],
   "source": [
    "#1 = Yes, 0 = No\n",
    "output = np.asarray([1, 1, 1, 1, 1, 1, 0, 0, 0, 0])"
   ]
  },
  {
   "cell_type": "code",
   "execution_count": 188,
   "id": "bae3a721",
   "metadata": {},
   "outputs": [],
   "source": [
    "X = shops\n",
    "Y = output"
   ]
  },
  {
   "cell_type": "code",
   "execution_count": 189,
   "id": "a6432e43",
   "metadata": {},
   "outputs": [
    {
     "data": {
      "text/plain": [
       "(10, 3)"
      ]
     },
     "execution_count": 189,
     "metadata": {},
     "output_type": "execute_result"
    }
   ],
   "source": [
    "X.shape"
   ]
  },
  {
   "cell_type": "code",
   "execution_count": 190,
   "id": "195c1411",
   "metadata": {},
   "outputs": [
    {
     "data": {
      "text/plain": [
       "(10,)"
      ]
     },
     "execution_count": 190,
     "metadata": {},
     "output_type": "execute_result"
    }
   ],
   "source": [
    "Y.shape"
   ]
  },
  {
   "cell_type": "code",
   "execution_count": 191,
   "id": "bed46178",
   "metadata": {},
   "outputs": [],
   "source": [
    "clf = RandomForestClassifier()"
   ]
  },
  {
   "cell_type": "code",
   "execution_count": 192,
   "id": "924bced2",
   "metadata": {},
   "outputs": [
    {
     "data": {
      "text/plain": [
       "RandomForestClassifier()"
      ]
     },
     "execution_count": 192,
     "metadata": {},
     "output_type": "execute_result"
    }
   ],
   "source": [
    "clf.fit(X, Y)"
   ]
  },
  {
   "cell_type": "code",
   "execution_count": 193,
   "id": "21d779d6",
   "metadata": {},
   "outputs": [
    {
     "name": "stdout",
     "output_type": "stream",
     "text": [
      "[0.36167156 0.40340792 0.23492052]\n"
     ]
    }
   ],
   "source": [
    "print(clf.feature_importances_)"
   ]
  },
  {
   "cell_type": "code",
   "execution_count": 194,
   "id": "b18d73e6",
   "metadata": {},
   "outputs": [
    {
     "name": "stdout",
     "output_type": "stream",
     "text": [
      "[0]\n"
     ]
    }
   ],
   "source": [
    "print(clf.predict([[2, 30, 4.6]]))"
   ]
  },
  {
   "cell_type": "code",
   "execution_count": null,
   "id": "eee4c8d8",
   "metadata": {},
   "outputs": [],
   "source": []
  },
  {
   "cell_type": "code",
   "execution_count": null,
   "id": "c7357ea4",
   "metadata": {},
   "outputs": [],
   "source": []
  }
 ],
 "metadata": {
  "kernelspec": {
   "display_name": "Python 3 (ipykernel)",
   "language": "python",
   "name": "python3"
  },
  "language_info": {
   "codemirror_mode": {
    "name": "ipython",
    "version": 3
   },
   "file_extension": ".py",
   "mimetype": "text/x-python",
   "name": "python",
   "nbconvert_exporter": "python",
   "pygments_lexer": "ipython3",
   "version": "3.9.13"
  }
 },
 "nbformat": 4,
 "nbformat_minor": 5
}
